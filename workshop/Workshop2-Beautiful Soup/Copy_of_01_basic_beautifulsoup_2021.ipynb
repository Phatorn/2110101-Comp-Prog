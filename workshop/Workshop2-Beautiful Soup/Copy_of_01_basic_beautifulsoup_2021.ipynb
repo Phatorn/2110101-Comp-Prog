{
  "nbformat": 4,
  "nbformat_minor": 0,
  "metadata": {
    "colab": {
      "private_outputs": true,
      "provenance": []
    },
    "kernelspec": {
      "display_name": "Python 3",
      "language": "python",
      "name": "python3"
    },
    "language_info": {
      "codemirror_mode": {
        "name": "ipython",
        "version": 3
      },
      "file_extension": ".py",
      "mimetype": "text/x-python",
      "name": "python",
      "nbconvert_exporter": "python",
      "pygments_lexer": "ipython3",
      "version": "3.5.3"
    }
  },
  "cells": [
    {
      "cell_type": "code",
      "metadata": {
        "id": "SdxifaWH0xwn"
      },
      "source": [
        "# Beautiful Soup\n",
        "\n",
        "BeautifulSoup คือ Python library สำหรับดึงข้อมูลหน้าเว็บไซต์ หรือ HTML ซึ่งเป็นตัว Parser ทำให้ผู้ใช้สามารถจัดการข้อมูลหน้าเว็บได้ง่ายและรวดเร็ว\n",
        "https://www.crummy.com/software/BeautifulSoup/bs4/doc/"
      ],
      "execution_count": null,
      "outputs": []
    },
    {
      "cell_type": "code",
      "metadata": {
        "id": "_LIsfXglbElu"
      },
      "source": [
        "from bs4 import BeautifulSoup\n",
        "\n",
        "example = '''\n",
        "<body>\n",
        "  <h1>aHeader</h1>\n",
        "  <div class=\"section1\">\n",
        "    <p>\n",
        "      <a href=\"#\">aLink</a>\n",
        "    </p>\n",
        "  </div>\n",
        "  <div class=\"section2\">\n",
        "    <img src=\"img.jpg\"/>\n",
        "  </div>\n",
        "</body>\n",
        "'''\n",
        "\n",
        "s = BeautifulSoup(example, 'html.parser')\n",
        "print(s)"
      ],
      "execution_count": null,
      "outputs": []
    },
    {
      "cell_type": "markdown",
      "metadata": {
        "id": "i3SXcO2bbElx"
      },
      "source": [
        "การใช้งานฟังก์ชัน .prettify() จะช่วยจัดหน้า html ให้มีความสวยงามและเป็นระเบียบมากขึ้น"
      ]
    },
    {
      "cell_type": "code",
      "metadata": {
        "id": "Uy9d77oYbElx"
      },
      "source": [
        "#ลองรันดูสิ สวยขึ้นกว่าเดิมเยอะเลย\n",
        "\n",
        "print(s.prettify()) "
      ],
      "execution_count": null,
      "outputs": []
    },
    {
      "cell_type": "markdown",
      "metadata": {
        "id": "QYeWOkCYbEl0"
      },
      "source": [
        "ถ้าต้องการแสดงผลเฉพาะส่วน body เพียงแค่ใส่ .body ก็จะได้ข้อมูลส่วน body"
      ]
    },
    {
      "cell_type": "code",
      "metadata": {
        "id": "s2fahwUI0xwt"
      },
      "source": [
        "s.body"
      ],
      "execution_count": null,
      "outputs": []
    },
    {
      "cell_type": "markdown",
      "metadata": {
        "id": "zwKaPgTtbEl3"
      },
      "source": [
        "ถ้าหากต้องการ tag ที่เป็น h1 สามารถใช้คำสั่ง .h1 ได้ หรืออาจจะใช้ฟังก์ชัน .find('h1') ก็ได้เหมือนกัน"
      ]
    },
    {
      "cell_type": "code",
      "metadata": {
        "id": "scijow1j0xwy"
      },
      "source": [
        "s.h1\n",
        "#s.find('h1')"
      ],
      "execution_count": null,
      "outputs": []
    },
    {
      "cell_type": "markdown",
      "metadata": {
        "id": "YaqkpYnYbEl5"
      },
      "source": [
        "โดยปกติแล้วถ้าใช้ .ตามด้วยชื่อ tag เราจะได้ tag แรกสุดที่เจอเท่านั้น"
      ]
    },
    {
      "cell_type": "code",
      "metadata": {
        "id": "zIMH1UX90xw2"
      },
      "source": [
        "s.div\n",
        "# s.find('div')"
      ],
      "execution_count": null,
      "outputs": []
    },
    {
      "cell_type": "markdown",
      "metadata": {
        "id": "mHruDymSbEl8"
      },
      "source": [
        "ถ้าต้องการหา tag ทั้งหมดสามารถทำได้โดยใช้ ('div) หรืออาจจะใช้ฟังก์ชัน .find_all('div) ก็ได้เหมือนกัน (return กลับมาเป็น list)"
      ]
    },
    {
      "cell_type": "code",
      "metadata": {
        "id": "KEtkQFO_0xw6"
      },
      "source": [
        "s('div')\n",
        "# s.find_all('div')"
      ],
      "execution_count": null,
      "outputs": []
    },
    {
      "cell_type": "code",
      "metadata": {
        "id": "27cfk97m0xw-"
      },
      "source": [
        "s('div')[1]"
      ],
      "execution_count": null,
      "outputs": []
    },
    {
      "cell_type": "markdown",
      "metadata": {
        "id": "-Kg8BL_MbEmB"
      },
      "source": [
        "เราสามารถใช้ฟังก์ชัน .find ในการหา tag ที่เราต้องการด้วย string , attribute , หรือ class ที่ต้องการได้"
      ]
    },
    {
      "cell_type": "code",
      "metadata": {
        "id": "OiHN7OSB0xxA"
      },
      "source": [
        "#ลองไล่ uncomment แล้วรันดูทีละคำสั่ง\n",
        "\n",
        "s.find(string='aLink').parent\n",
        "# s.find('h1', string='aHeader')\n",
        "#s.find(attrs={'class': 'section1'})\n",
        "# s.find(class_='section1')"
      ],
      "execution_count": null,
      "outputs": []
    },
    {
      "cell_type": "code",
      "metadata": {
        "id": "h3atpKp90xxC"
      },
      "source": [
        "#ลองเล่นทีละคำสั่งดูสิ\n",
        "\n",
        "#s.div.name\n",
        "#s.div.text\n",
        "s.div.parent\n",
        "#s.div.previous_sibling # ทำไม?\n",
        "# s.div.previous_sibling.previous_sibling\n",
        "#s.div.next_sibling # ทำไม?\n",
        "#s.div.next_sibling.next_sibling\n",
        "#s.div.contents \n",
        "#s.div.next_element # ทำไม?\n",
        "#s.div.next_element.next_element"
      ],
      "execution_count": null,
      "outputs": []
    },
    {
      "cell_type": "code",
      "metadata": {
        "id": "MqrlBPsC0xxF"
      },
      "source": [
        "s.div.find_previous_sibling()\n",
        "s.div.find_next_sibling()"
      ],
      "execution_count": null,
      "outputs": []
    },
    {
      "cell_type": "code",
      "metadata": {
        "id": "ToGluLPX0xxI"
      },
      "source": [
        "s.a.find_next_sibling()\n",
        "# None\n",
        "\n",
        "s.a.find_next()\n",
        "s.a.find_next('img')\n",
        "# s.a.find_parent('div')\n",
        "# s.a.find_parent('body')"
      ],
      "execution_count": null,
      "outputs": []
    },
    {
      "cell_type": "code",
      "metadata": {
        "id": "mNVWCaOq0xxK"
      },
      "source": [
        "s.find('div', class_='section2') \\\n",
        "  .find_previous_sibling('h1')"
      ],
      "execution_count": null,
      "outputs": []
    },
    {
      "cell_type": "code",
      "metadata": {
        "id": "gBfmDNb2bEmN"
      },
      "source": [],
      "execution_count": null,
      "outputs": []
    }
  ]
}